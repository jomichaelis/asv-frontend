{
 "cells": [
  {
   "cell_type": "code",
   "execution_count": 2,
   "metadata": {},
   "outputs": [],
   "source": [
    "import firebase_admin\n",
    "from firebase_admin import credentials\n",
    "from firebase_admin import firestore\n",
    "from firebase_admin import auth\n",
    "from firebase_admin import storage\n",
    "\n",
    "# Initialize Firebase Admin SDK: https://firebase.google.com/docs/admin/setup/#initialize_the_sdk_in_non-google_environments\n",
    "cred = credentials.Certificate('serviceAccountKey.json')\n",
    "if not firebase_admin._apps:\n",
    "    app = firebase_admin.initialize_app(cred)"
   ]
  },
  {
   "cell_type": "code",
   "execution_count": 5,
   "metadata": {},
   "outputs": [],
   "source": [
    "# Create a new document in Firestore\n",
    "def create_document(collection, document_data):\n",
    "    db = firestore.client()\n",
    "    doc_ref = db.collection(collection).document()\n",
    "    doc_ref.set(document_data, merge=True)\n",
    "    print('Document created with ID:', doc_ref.id)\n",
    "\n",
    "# Usage example\n",
    "# create_document('users2', {'name': 'John Doe', 'email': 'johndoe@example.com'})"
   ]
  },
  {
   "cell_type": "code",
   "execution_count": 17,
   "metadata": {},
   "outputs": [
    {
     "name": "stdout",
     "output_type": "stream",
     "text": [
      "Document created with ID: 6utbGCEiXXVGg6oxDW7Q\n",
      "Document created with ID: LLIFxRtvpfFyeoWrzNqB\n",
      "Document created with ID: X4rY7xA2Kj5yQD8jFeYQ\n",
      "Document created with ID: bkbKIUBDgHA6DHzUAPH1\n",
      "Document created with ID: CYCWtOvzFfNRRRkSOLai\n",
      "Document created with ID: zn4dw4fREuhdIMOEyr9u\n",
      "Document created with ID: oTFgPm1bRrwtYHATXU6g\n",
      "Document created with ID: 4F1MuNumWaJS3uy2CMtt\n",
      "Document created with ID: bk8t1dyQdHPRBG8w9OXi\n",
      "Document created with ID: 9y83ZlMwyppWEr1UTKiH\n",
      "Document created with ID: SAk2VKtgs4xsqrclEePf\n",
      "Document created with ID: SxuZgENCnX4upY3vo0ej\n",
      "Document created with ID: 2iAUrpNlu7WRDDRROOXw\n",
      "Document created with ID: 15289Uq8FCw5v13rZI6k\n",
      "Document created with ID: NcdQjyBCjGksCwsgtRsc\n",
      "Document created with ID: mad3MZ18NWh5ZqZfkaGr\n",
      "Document created with ID: PFknEJtR4P9NMoCtk2mO\n",
      "Document created with ID: 0UDF0mWvPT4N4OpjR5cx\n",
      "Document created with ID: 2lB3I9aYvHWkspBO1gz6\n",
      "Document created with ID: LkcsaAqhU9EWtNtw6ZnG\n",
      "Document created with ID: FDiuRNafakbuaYLOeKyX\n",
      "Document created with ID: 75mUk7ucosyGxVqXIFD2\n",
      "Document created with ID: PrM4bMo2tw26iXfInaAy\n",
      "Document created with ID: wcvyooR39T8QNoTfYkrc\n",
      "Document created with ID: fsXOjje9JXbXR9jBSyso\n",
      "Document created with ID: z7fBfDbD0qFv2l04jrq7\n",
      "Document created with ID: y9PcJdIRLT5LbGisPXwp\n",
      "Document created with ID: YmHi8lp6IE2NZKxnXOb1\n",
      "Document created with ID: 5tOHkZk3iabKN5wspzaz\n",
      "Document created with ID: TjKA4Y7uPVz8bUBzcWiu\n",
      "Document created with ID: tQLBhzfLu6kMTxOsheta\n",
      "Document created with ID: ZLkLhVrJHcRzGFMEara6\n",
      "Document created with ID: 1BLDE2iO8wOsOm2NcUUS\n",
      "Document created with ID: xkGvA9xdwigBnhGhXfL6\n",
      "Document created with ID: qSt9hIRoyYdUPEXobYoq\n",
      "Document created with ID: 4qfaYYEVlWg767VmIjGm\n",
      "Document created with ID: DKLNXPx5TdHAqOGbfvpG\n",
      "Document created with ID: GmDQlKmlFNGkPcToUsXC\n",
      "Document created with ID: IqFUhRMd5jdOyP4dT7L3\n",
      "Document created with ID: QUwHF5HrfsiAqDFdf72S\n",
      "Document created with ID: zd1fOoVIqZcM4FxWTekK\n",
      "Document created with ID: W0s4zLs028kYNdzocwdc\n",
      "Document created with ID: zY39Zu6EmV6d34HxS1hg\n",
      "Document created with ID: lgeqQq3RXKwO8K3E2Zqr\n",
      "Document created with ID: yTUTBVWeEt6a8e8iraFN\n",
      "Document created with ID: knADm2M6psjX6aeK87jp\n",
      "Document created with ID: RFjquBgXi95oPWdR7Rph\n",
      "Document created with ID: BzCXdXgGnrASe5E29aM3\n",
      "Document created with ID: kcoobjZ5VyXkixU6D6R4\n",
      "Document created with ID: N3X2in3kXXFnK08rATYn\n",
      "Document created with ID: fGX1JPpEl0iF0AwGpqXq\n",
      "Document created with ID: E8E58eFzgLGn9Les0veq\n",
      "Document created with ID: LpROgqu9xanhDuFzlUp6\n",
      "Document created with ID: 4IaGdCK3e3G37Mpbz8fW\n",
      "Document created with ID: zWWRbYFQjBDE4oaVefND\n",
      "Document created with ID: 1nmlErfWPytRf7XPYpq3\n",
      "Document created with ID: fX0E9mAQQgGbRr3wfLVX\n",
      "Document created with ID: vW7Ro5xZ5rHwPA7Nt4u8\n",
      "Document created with ID: ceo61ZwRIAiCfUHZ0wMc\n",
      "Document created with ID: sKzbtcFXJTrM6GO9y8lQ\n",
      "Document created with ID: twUMzWMAUTIPqIVXtTRO\n",
      "Document created with ID: d9MKCW0C4tofhfKpr80F\n",
      "Document created with ID: 7okr3rLhBeRZNivgl1VC\n",
      "Document created with ID: nBdRMq9BDEZA3nUvTTBh\n"
     ]
    }
   ],
   "source": [
    "import json\n",
    "\n",
    "with open('teams.json', 'r') as f:\n",
    "    teams = json.load(f)\n",
    "\n",
    "for team in teams:\n",
    "    create_document('teams', team)\n"
   ]
  },
  {
   "cell_type": "code",
   "execution_count": null,
   "metadata": {},
   "outputs": [],
   "source": [
    "# Read a document from Firestore\n",
    "def read_document(collection, document_id):\n",
    "    db = firestore.client()\n",
    "    doc_ref = db.collection(collection).document(document_id)\n",
    "    document = doc_ref.get()\n",
    "    if document.exists:\n",
    "        print('Document data:', document.to_dict())\n",
    "    else:\n",
    "        print('No such document!')\n",
    "\n",
    "# Usage example\n",
    "read_document('users', 'document_id123')"
   ]
  },
  {
   "cell_type": "code",
   "execution_count": null,
   "metadata": {},
   "outputs": [],
   "source": [
    "# Update a document in Firestore\n",
    "def update_document(collection, document_id, update_data):\n",
    "    db = firestore.client()\n",
    "    doc_ref = db.collection(collection).document(document_id)\n",
    "    doc_ref.update(update_data)\n",
    "    print('Document updated successfully!')\n",
    "\n",
    "# Usage example\n",
    "update_document('users', 'document_id123', {'name': 'Jane Smith'})"
   ]
  },
  {
   "cell_type": "code",
   "execution_count": null,
   "metadata": {},
   "outputs": [],
   "source": [
    "# Delete a document from Firestore\n",
    "def delete_document(collection, document_id):\n",
    "    db = firestore.client()\n",
    "    doc_ref = db.collection(collection).document(document_id)\n",
    "    doc_ref.delete()\n",
    "    print('Document deleted successfully!')\n",
    "\n",
    "# Usage example\n",
    "delete_document('users', 'document_id123')"
   ]
  },
  {
   "cell_type": "code",
   "execution_count": 18,
   "metadata": {},
   "outputs": [
    {
     "name": "stdout",
     "output_type": "stream",
     "text": [
      "bwv4YYRK3YfwPdC3SFJhPclVoWD2 johannesmichaelis0@gmail.com\n",
      "e3y41Xyw2XcHiaGVE5CLh54nSGb2 johannes.michaelis@fau.de\n"
     ]
    }
   ],
   "source": [
    "# Get all users from Firebase Authentication\n",
    "def get_all_users():\n",
    "    page = auth.list_users()  # Retrieve the first batch of users\n",
    "    while page:\n",
    "        for user in page.users:\n",
    "            # Process each user record\n",
    "            print(user.uid, user.email)  # Access user information\n",
    "        page = page.get_next_page()\n",
    "\n",
    "# Usage example\n",
    "get_all_users()"
   ]
  },
  {
   "cell_type": "code",
   "execution_count": 3,
   "metadata": {},
   "outputs": [
    {
     "name": "stdout",
     "output_type": "stream",
     "text": [
      "{'role': 'admin'}\n"
     ]
    }
   ],
   "source": [
    "def get_user():\n",
    "    user = auth.get_user_by_email('johannesmichaelis0@gmail.com')\n",
    "    # set user claims\n",
    "    auth.set_custom_user_claims(user.uid, {'role': 'admin'})\n",
    "    # get user claims\n",
    "    user = auth.get_user_by_email('johannesmichaelis0@gmail.com')\n",
    "    claims = user.custom_claims\n",
    "    print(claims)\n",
    "\n",
    "# Usage example\n",
    "get_user()"
   ]
  },
  {
   "cell_type": "code",
   "execution_count": null,
   "metadata": {},
   "outputs": [],
   "source": []
  }
 ],
 "metadata": {
  "kernelspec": {
   "display_name": "venv",
   "language": "python",
   "name": "python3"
  },
  "language_info": {
   "codemirror_mode": {
    "name": "ipython",
    "version": 3
   },
   "file_extension": ".py",
   "mimetype": "text/x-python",
   "name": "python",
   "nbconvert_exporter": "python",
   "pygments_lexer": "ipython3",
   "version": "3.10.12"
  }
 },
 "nbformat": 4,
 "nbformat_minor": 2
}
