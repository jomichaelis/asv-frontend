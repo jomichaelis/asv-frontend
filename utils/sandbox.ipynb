{
 "cells": [
  {
   "cell_type": "code",
   "execution_count": 2,
   "metadata": {},
   "outputs": [],
   "source": [
    "import firebase_admin\n",
    "from firebase_admin import credentials\n",
    "from firebase_admin import firestore\n",
    "from firebase_admin import auth\n",
    "from firebase_admin import storage\n",
    "\n",
    "# Initialize Firebase Admin SDK: https://firebase.google.com/docs/admin/setup/#initialize_the_sdk_in_non-google_environments\n",
    "cred = credentials.Certificate('service-account.json')\n",
    "if not firebase_admin._apps:\n",
    "    app = firebase_admin.initialize_app(cred)"
   ]
  },
  {
   "cell_type": "code",
   "execution_count": 3,
   "metadata": {},
   "outputs": [],
   "source": [
    "# Create a new document in Firestore\n",
    "def create_document(collection, document_data):\n",
    "    db = firestore.client()\n",
    "    doc_ref = db.collection(collection).document()\n",
    "    doc_ref.set(document_data, merge=True)\n",
    "    print('Document created with ID:', doc_ref.id)\n",
    "\n",
    "# Usage example\n",
    "# create_document('users2', {'name': 'John Doe', 'email': 'johndoe@example.com'})"
   ]
  },
  {
   "cell_type": "code",
   "execution_count": 5,
   "metadata": {},
   "outputs": [
    {
     "name": "stdout",
     "output_type": "stream",
     "text": [
      "Document created with ID: 7vP8VjDF69U1oynyRzPM\n",
      "Document created with ID: vwnmLI0zR9HzZqD3p1Cj\n",
      "Document created with ID: tWTge4yoifBUg8hKYvyW\n",
      "Document created with ID: 8IRa7BZOtVEXe0uoNy7B\n",
      "Document created with ID: SvdLdRE1RXCw79ubL0ah\n",
      "Document created with ID: sijeOWRohVX1J2VDk1MZ\n",
      "Document created with ID: dLtgHGdXRwZNB09w65LY\n",
      "Document created with ID: daStQNhysRr4ObS53qM0\n",
      "Document created with ID: pBvfi4mjlnDIeQFqId9C\n",
      "Document created with ID: W45332QhyIc5deHGaXfe\n",
      "Document created with ID: 4Tw1HCXjMscgxtA2sI0Q\n",
      "Document created with ID: 9ZIGej1lTPMv1FjafleZ\n",
      "Document created with ID: Ac4CQygMqadvHNDXsWTP\n",
      "Document created with ID: LuPYT462iX2ASfMBCnQm\n",
      "Document created with ID: QupbCLxM6rwLxjpbaVZK\n",
      "Document created with ID: Il6RuzUY7cEgSFqpWmGF\n",
      "Document created with ID: Ci7hwomwbkrM3R9KcR8w\n",
      "Document created with ID: KtVxx9qMv5NHdHeqOHeQ\n",
      "Document created with ID: tZQ5Ntz5dO4mxze1CMxr\n",
      "Document created with ID: uwwjidxE8z8IZKzijPKr\n",
      "Document created with ID: bdllZt8PNUm0ql8DiMiZ\n",
      "Document created with ID: 42pFOMRaITKlEXp4eTnx\n",
      "Document created with ID: D5EaQKjU2fwtT6EzRDvJ\n",
      "Document created with ID: VOHBbNGxP4ldtPyoTEob\n",
      "Document created with ID: m4Y5eQVOcJ9AgbC9za5g\n",
      "Document created with ID: fGgfRr9ujwkTA3aKunRB\n",
      "Document created with ID: WyRgsBRYX9JHjs59jmCG\n",
      "Document created with ID: LbuO2JOcTdk1OS48cp4b\n",
      "Document created with ID: NktHpaAegh7efXabDQeA\n",
      "Document created with ID: 5mirKR6d7PqTn0tBlMP2\n",
      "Document created with ID: 8mENnOtfz5TWFHFDtDVY\n",
      "Document created with ID: 49w3GccnPrQLsLwJTG5x\n",
      "Document created with ID: sprkDfZPhhAOyVpUrklB\n",
      "Document created with ID: elCLvPE0I2RpoHvSNO07\n",
      "Document created with ID: fjhSCkOBpEx4Uf5w9HCG\n",
      "Document created with ID: dIG13Rm4Ch2c6pHQrWYl\n",
      "Document created with ID: lpBo8URHo1Xn4e6CwVUM\n",
      "Document created with ID: jkxe1dhpfh7yP6Gxi5Sw\n",
      "Document created with ID: sX42U1TikXsfEsxmulRE\n",
      "Document created with ID: jasZ0qFHvEUFxTEDQONx\n",
      "Document created with ID: wQ33GA1zVXPLpg325qCT\n",
      "Document created with ID: mOdS3H9yP2iwAiIrob2j\n",
      "Document created with ID: q6jBbTOLFDbSWAeHKq3j\n",
      "Document created with ID: RflCfZuwftpvZKD1ZVy9\n",
      "Document created with ID: IJsC715xNP8UgDVyCwjp\n",
      "Document created with ID: gIbzGjVewyYiV7ccH5ow\n",
      "Document created with ID: CP9n8WZHNCDbFqnyoP4R\n",
      "Document created with ID: RDzRuuvcSMSkjhEDviIW\n",
      "Document created with ID: Qrerxtt7W6QUaJ6GQMC1\n",
      "Document created with ID: M7HW1RaCgVpK6vSTAslY\n",
      "Document created with ID: MwUoAjMiKBTvtOCuAw10\n",
      "Document created with ID: cuZ10n9ndpCEzceakupG\n",
      "Document created with ID: kYvWoTBpVu3IJG6b0dUa\n",
      "Document created with ID: KI3XALJSV0VzsM6KTDtX\n",
      "Document created with ID: BqV9sI6dVZAIwGJW54XB\n",
      "Document created with ID: 4GZvGI3XxgHAjNhDTTVJ\n",
      "Document created with ID: RDpgTlOSYIDpk6TGexSq\n",
      "Document created with ID: d1FMFUUwBUvbzjjUF40w\n",
      "Document created with ID: IEkoS00xjvK9OW1y0upi\n",
      "Document created with ID: X3w3fOJEi8Mp0sUpUg0B\n",
      "Document created with ID: RjdcBy8k9KfcC5LYuI6Y\n",
      "Document created with ID: GYv0SwT283UiXZCks8nA\n",
      "Document created with ID: 3kO9ARTWYgDpOoniqNRW\n",
      "Document created with ID: Y2HCWIXtXKW16uKbpIwO\n"
     ]
    }
   ],
   "source": [
    "import json\n",
    "\n",
    "with open('teams.json', 'r') as f:\n",
    "    teams = json.load(f)\n",
    "\n",
    "for team in teams:\n",
    "    t = {\n",
    "        'name': team['name'],\n",
    "        'long1': team['long1'],\n",
    "        'long2': team['long2'],\n",
    "        'identifier': team['id'],\n",
    "    }\n",
    "    create_document('teams', t)\n"
   ]
  },
  {
   "cell_type": "code",
   "execution_count": null,
   "metadata": {},
   "outputs": [],
   "source": [
    "# Read a document from Firestore\n",
    "def read_document(collection, document_id):\n",
    "    db = firestore.client()\n",
    "    doc_ref = db.collection(collection).document(document_id)\n",
    "    document = doc_ref.get()\n",
    "    if document.exists:\n",
    "        print('Document data:', document.to_dict())\n",
    "    else:\n",
    "        print('No such document!')\n",
    "\n",
    "# Usage example\n",
    "read_document('users', 'document_id123')"
   ]
  },
  {
   "cell_type": "code",
   "execution_count": null,
   "metadata": {},
   "outputs": [],
   "source": [
    "# Update a document in Firestore\n",
    "def update_document(collection, document_id, update_data):\n",
    "    db = firestore.client()\n",
    "    doc_ref = db.collection(collection).document(document_id)\n",
    "    doc_ref.update(update_data)\n",
    "    print('Document updated successfully!')\n",
    "\n",
    "# Usage example\n",
    "update_document('users', 'document_id123', {'name': 'Jane Smith'})"
   ]
  },
  {
   "cell_type": "code",
   "execution_count": null,
   "metadata": {},
   "outputs": [],
   "source": [
    "# Delete a document from Firestore\n",
    "def delete_document(collection, document_id):\n",
    "    db = firestore.client()\n",
    "    doc_ref = db.collection(collection).document(document_id)\n",
    "    doc_ref.delete()\n",
    "    print('Document deleted successfully!')\n",
    "\n",
    "# Usage example\n",
    "delete_document('users', 'document_id123')"
   ]
  },
  {
   "cell_type": "code",
   "execution_count": 18,
   "metadata": {},
   "outputs": [
    {
     "name": "stdout",
     "output_type": "stream",
     "text": [
      "bwv4YYRK3YfwPdC3SFJhPclVoWD2 johannesmichaelis0@gmail.com\n",
      "e3y41Xyw2XcHiaGVE5CLh54nSGb2 johannes.michaelis@fau.de\n"
     ]
    }
   ],
   "source": [
    "# Get all users from Firebase Authentication\n",
    "def get_all_users():\n",
    "    page = auth.list_users()  # Retrieve the first batch of users\n",
    "    while page:\n",
    "        for user in page.users:\n",
    "            # Process each user record\n",
    "            print(user.uid, user.email)  # Access user information\n",
    "        page = page.get_next_page()\n",
    "\n",
    "# Usage example\n",
    "get_all_users()"
   ]
  },
  {
   "cell_type": "code",
   "execution_count": 3,
   "metadata": {},
   "outputs": [
    {
     "name": "stdout",
     "output_type": "stream",
     "text": [
      "{'role': 'admin'}\n"
     ]
    }
   ],
   "source": [
    "def get_user():\n",
    "    user = auth.get_user_by_email('johannesmichaelis0@gmail.com')\n",
    "    # set user claims\n",
    "    auth.set_custom_user_claims(user.uid, {'role': 'admin'})\n",
    "    # get user claims\n",
    "    user = auth.get_user_by_email('johannesmichaelis0@gmail.com')\n",
    "    claims = user.custom_claims\n",
    "    print(claims)\n",
    "\n",
    "# Usage example\n",
    "get_user()"
   ]
  },
  {
   "cell_type": "code",
   "execution_count": null,
   "metadata": {},
   "outputs": [],
   "source": []
  }
 ],
 "metadata": {
  "kernelspec": {
   "display_name": "venv",
   "language": "python",
   "name": "python3"
  },
  "language_info": {
   "codemirror_mode": {
    "name": "ipython",
    "version": 3
   },
   "file_extension": ".py",
   "mimetype": "text/x-python",
   "name": "python",
   "nbconvert_exporter": "python",
   "pygments_lexer": "ipython3",
   "version": "3.10.12"
  }
 },
 "nbformat": 4,
 "nbformat_minor": 2
}
